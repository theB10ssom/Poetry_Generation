{
  "nbformat": 4,
  "nbformat_minor": 5,
  "metadata": {
    "kernelspec": {
      "display_name": "Python 3",
      "language": "python",
      "name": "python3"
    },
    "language_info": {
      "codemirror_mode": {
        "name": "ipython",
        "version": 3
      },
      "file_extension": ".py",
      "mimetype": "text/x-python",
      "name": "python",
      "nbconvert_exporter": "python",
      "pygments_lexer": "ipython3",
      "version": "3.8.8"
    },
    "colab": {
      "name": "데이터가져오기.ipynb",
      "provenance": []
    }
  },
  "cells": [
    {
      "cell_type": "code",
      "metadata": {
        "id": "fc55f632-9259-4c9f-90c5-d859138e2ce7"
      },
      "source": [
        "import pandas as pd # 테이블 형식으로 데이터를 처리할 수 있게 하는 라이브러리\n",
        "from tqdm import tqdm\n",
        "\n",
        "import xmltodict\n",
        "import urllib.request\n",
        "from xml.etree import ElementTree"
      ],
      "id": "fc55f632-9259-4c9f-90c5-d859138e2ce7",
      "execution_count": null,
      "outputs": []
    },
    {
      "cell_type": "code",
      "metadata": {
        "id": "80b0eeb7-38a6-4e35-ba78-77e5d5f3f5b9"
      },
      "source": [
        "url = 'https://rss.blog.naver.com/jhk3211.xml'\n",
        "xml = urllib.request.urlopen(url)\n",
        "tree = ElementTree.parse(xml)\n",
        "root = tree.getroot()\n",
        "\n",
        "table = {\n",
        "    'title' : [],\n",
        "    'content' : []\n",
        "}\n",
        "\n",
        "\n",
        "for object_ in root.iter('item'):\n",
        "    table['title'].append(object_.find('title').text)\n",
        "    table['content'].append(object_.find('description').text)"
      ],
      "id": "80b0eeb7-38a6-4e35-ba78-77e5d5f3f5b9",
      "execution_count": null,
      "outputs": []
    },
    {
      "cell_type": "code",
      "metadata": {
        "id": "930e3d5a-4c19-4d17-ba09-d3c878190577"
      },
      "source": [
        "data = pd.DataFrame(table).drop(index=37)"
      ],
      "id": "930e3d5a-4c19-4d17-ba09-d3c878190577",
      "execution_count": null,
      "outputs": []
    },
    {
      "cell_type": "code",
      "metadata": {
        "id": "0db1cff8-6540-4aa0-97bc-f2532378ecb2"
      },
      "source": [
        "data.content = data.content.str.replace(r\"[^가-힣|\\s|.]\", \"\",\n",
        "                                       regex=True)\n",
        "data.content = data.content.str.replace(\". \", \".<br>\",\n",
        "                                       regex=False)"
      ],
      "id": "0db1cff8-6540-4aa0-97bc-f2532378ecb2",
      "execution_count": null,
      "outputs": []
    },
    {
      "cell_type": "code",
      "metadata": {
        "id": "7b967086-b9de-45be-820c-203a2352b03b",
        "outputId": "8ac0235c-08e6-4a24-ac44-d14af7144da4"
      },
      "source": [
        "data.content[3].lstrip(\".<br>\")"
      ],
      "id": "7b967086-b9de-45be-820c-203a2352b03b",
      "execution_count": null,
      "outputs": [
        {
          "data": {
            "text/plain": [
              "'그리움에 얼굴을 파묻고 마냥 눈물을 쏟아내더라도 우리는 지금의 우리를 살아가야지 .<br>가제 난시 어지럽게 놓여진 감정들 흐릿한 감각으로 겨우 찡그리면 그제서야 구별이 된다 글이 되지 못한 짧은 문장들'"
            ]
          },
          "execution_count": 148,
          "metadata": {},
          "output_type": "execute_result"
        }
      ]
    },
    {
      "cell_type": "code",
      "metadata": {
        "id": "5c57201f-f4b3-440b-8b25-c8c960dcbc78"
      },
      "source": [
        "data.to_csv('./troll_poem.csv', index=False)"
      ],
      "id": "5c57201f-f4b3-440b-8b25-c8c960dcbc78",
      "execution_count": null,
      "outputs": []
    }
  ]
}